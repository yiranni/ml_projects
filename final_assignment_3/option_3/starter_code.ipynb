{
 "cells": [
  {
   "cell_type": "code",
   "execution_count": 1,
   "metadata": {},
   "outputs": [],
   "source": [
    "import numpy as np\n",
    "import pandas as pd\n",
    "import matplotlib.pyplot as plt\n",
    "%matplotlib inline"
   ]
  },
  {
   "cell_type": "code",
   "execution_count": 2,
   "metadata": {},
   "outputs": [],
   "source": [
    "raw_data = pd.read_json('food_enforcement_US_bacteria.json', orient='records')"
   ]
  },
  {
   "cell_type": "code",
   "execution_count": 3,
   "metadata": {},
   "outputs": [
    {
     "name": "stdout",
     "output_type": "stream",
     "text": [
      "(6104, 26)\n",
      "0    Native Catch Salmon Bacon, Traditional flavor....\n",
      "1    Delish Fruit Burst 10 oz.(283 g)  Enjoy by: 8/...\n",
      "2    Garden Pure Holiday Fruit Bowl 4 lbs (1.81kg) ...\n",
      "3    Fresh Fruit Product is labeled in part:  \"***F...\n",
      "4    Ready Pac¿ Gourmet Fruit Bowl, 64oz , UPC 7774...\n",
      "5    River Ranch brand Diced Grn Cabbage w/Color, 4...\n",
      "6    Sweet and Sour Stir Fry packaged under the fol...\n",
      "7    Onion Slab Cut.  Products are labeled in part:...\n",
      "8    MIX w/yellow onions used as an ingredient.  Pr...\n",
      "9    Fresh n Easy brand Shred Grn Cabbage w/Color, ...\n",
      "Name: product_description, dtype: object\n"
     ]
    }
   ],
   "source": [
    "print(raw_data.shape)\n",
    "print(raw_data.head(10).product_description)"
   ]
  },
  {
   "cell_type": "markdown",
   "metadata": {},
   "source": [
    "### Bag of words feature representation for descriptive text"
   ]
  },
  {
   "cell_type": "code",
   "execution_count": 4,
   "metadata": {},
   "outputs": [
    {
     "data": {
      "text/plain": [
       "(6104, 13767)"
      ]
     },
     "execution_count": 4,
     "metadata": {},
     "output_type": "execute_result"
    }
   ],
   "source": [
    "from sklearn.feature_extraction.text import CountVectorizer\n",
    "vectorizer = CountVectorizer()\n",
    "\n",
    "corpus = raw_data['product_description']\n",
    "X = vectorizer.fit_transform(corpus)\n",
    "X.shape"
   ]
  },
  {
   "cell_type": "markdown",
   "metadata": {},
   "source": [
    "### fit Kmeans"
   ]
  },
  {
   "cell_type": "code",
   "execution_count": 6,
   "metadata": {},
   "outputs": [
    {
     "data": {
      "text/plain": [
       "KMeans(algorithm='auto', copy_x=True, init='k-means++', max_iter=300,\n",
       "    n_clusters=50, n_init=30, n_jobs=None, precompute_distances='auto',\n",
       "    random_state=None, tol=0.0001, verbose=0)"
      ]
     },
     "execution_count": 6,
     "metadata": {},
     "output_type": "execute_result"
    }
   ],
   "source": [
    "#fit Kmeans with k clusters\n",
    "from sklearn.cluster import KMeans\n",
    "km = KMeans(n_clusters=50,n_init=30)\n",
    "km.fit(X)"
   ]
  },
  {
   "cell_type": "markdown",
   "metadata": {},
   "source": [
    "### labels are named with integers and stored in the `labels_` attribute"
   ]
  },
  {
   "cell_type": "code",
   "execution_count": 8,
   "metadata": {},
   "outputs": [
    {
     "data": {
      "text/plain": [
       "array([42, 17, 49, ..., 49, 33, 16], dtype=int32)"
      ]
     },
     "execution_count": 8,
     "metadata": {},
     "output_type": "execute_result"
    }
   ],
   "source": [
    "km.labels_"
   ]
  },
  {
   "cell_type": "markdown",
   "metadata": {},
   "source": [
    "### take a look at one of the cluster results"
   ]
  },
  {
   "cell_type": "code",
   "execution_count": 9,
   "metadata": {},
   "outputs": [
    {
     "name": "stdout",
     "output_type": "stream",
     "text": [
      "Buttermilk, Lemon & Blueberry Frozen Yogurt Bucket, 814, Jeni's Splendid Ice Creams, LLC, 3 gallons, plastic bucket, individually packed, frozen.  Buttermilk, Lemon & Blueberry Frozen Yogurt Pint Case, 714, Jeni's Splendid Ice Creams, LLC, pint size, plastic container, 8 pints per case, frozen.  Buttermilk, Lemon & Blueberry Frozen Yogurt Pint, Jeni's Splendid Ice Creams, LLC, pint size, plastic container, individually packed, frozen.\n",
      "**********\n",
      "Bergamot Frozen Yogurt Bucket, 348, Jeni's Splendid Ice Creams, LLC, 3 gallons, plastic bucket, individually packed, frozen.  Bergamot Frozen Yogurt Pint Case, 248, Jeni's Splendid Ice Creams, LLC, pint size, plastic container, 8 pints per case, frozen.  Bergamot Frozen Yogurt Pint, Jeni's Splendid Ice Creams, LLC, pint size, plastic container, individually packed, frozen.\n",
      "**********\n",
      "Mango Lassi Frozen Yogurt Bucket, 391, Jeni's Splendid Ice Creams, LLC, 3 gallons, plastic bucket, individually packed, frozen.  Mango Lassi Frozen Yogurt Pint Case, 297, Jeni's Splendid Ice Creams, LLC, pint size, plastic container, 8 pints per case, frozen.  Mango Lassi Frozen Yogurt Pint, Jeni's Splendid Ice Creams, LLC, pint size, plastic container, individually packed, frozen.\n",
      "**********\n",
      "Hot Toddy Sorbet Pint Case, 202, Jeni's Splendid Ice Creams, LLC, pint size, plastic container, 8 pints per case, frozen.    Hot Toddy Sorbet Pint, Jeni's Splendid Ice Creams, LLC, pint size, plastic container, individually packed, frozen. \n",
      "**********\n",
      "Black Currant Huckleberry, Brioche and Jam Ice Cream Bucket, 313, Jeni's Splendid Ice Creams, LLC, 3 gallons, plastic bucket, individually packed, frozen.    Black Currant Huckleberry, Brioche and Jam Pint Case, 215, Jeni's Splendid Ice Creams, LLC, pint size, plastic container, 8 pints per case, frozen.    Black Currant Huckleberry, Brioche and Jam pint, Jeni's Splendid Ice Creams, LLC, pint size, plastic container, individually packed, frozen.  \n",
      "**********\n",
      "Apricot Frozen Yogurt Pint Case, 238, Jeni's Splendid Ice Creams, LLC, pint size, plastic container, 8 pints per case, frozen.    Apricot Frozen Yogurt Pint, Jenis Splendid Ice Creams, LLC, pint size, plastic container, individually packed, frozen. \n",
      "**********\n",
      "Black Currant Frozen Yogurt Bucket, 305, Jeni's Splendid Ice Creams, LLC, 3 gallons, plastic bucket, individually packed, frozen.  Black Currant Frozen Yogurt Pint Case, 217, Jeni's Splendid Ice Creams, LLC, pint size, plastic container, 8 pints per case, frozen.  Black Currant Frozen Yogurt Pint, Jeni's Splendid Ice Creams, LLC, pint size, plastic container, individually packed, frozen.\n",
      "**********\n",
      "Raspberry Sorbet Pint, Jeni's Splendid Ice Creams, LLC, pint size, plastic container, individually packed, frozen.  Raspberry Sorbet Pint, Jeni's Splendid Ice Creams, LLC, pint size, plastic container, individually packed, frozen.\n",
      "**********\n",
      "White Chocolate Peppermint Ice Cream Bucket, 375, Jeni's Splendid Ice Creams, LLC, 3 gallons, plastic bucket, individually packed, frozen.  White Chocolate Peppermint Pint Case, 275, Jeni's Splendid Ice Creams, LLC, pint size, plastic container, 8 pints per case, frozen.  White Chocolate Peppermint Pint, Jeni's Splendid Ice Creams, LLC, pint size, plastic container, individually packed, frozen.\n",
      "**********\n",
      "Passion Fruit Sorbet Pint Case, 289, Jeni's Splendid Ice Creams, LLC, pint size, plastic container, 8 pints per case, frozen.    Passion Fruit Sorbet Pint, Jeni's Splendid Ice Creams, LLC, pint size, plastic container, individually packed, frozen.    Passion Fruit Sorbet Pint Case, 289, Jeni's Splendid Ice Creams, LLC, pint size, plastic container, 8 pints per case, frozen.\n",
      "**********\n",
      "Buttermilk, Grapefruit Frozen Yogurt Bucket, 338, Jeni's Splendid Ice Creams, LLC, 3 gallons, plastic bucket, individually packed, frozen.  Buttermilk, Grapefruit Frozen Yogurt Pint Case, 225, Jeni's Splendid Ice Creams, LLC, pint size, plastic container, 8 pints per case, frozen.  Buttermilk, Grapefruit Frozen Yogurt Pint, Jeni's Splendid Ice Creams, LLC, pint size, plastic container, individually packed, frozen.\n",
      "**********\n",
      "Loveless Biscuits + Peach Jam Ice Cream Bucket, Jeni's Splendid Ice Creams, LLC, 3 gallons, plastic bucket, individually packed, frozen.  Loveless Biscuits + Peach Jam Ice Cream Pint Case, Jeni's Splendid Ice Creams, LLC, pint size, plastic container, 8 pints per case, frozen.    Loveless Biscuits + Peach Jam Pint, Jeni's Splendid Ice Creams, LLC, pint size, plastic container, individually packed, frozen.\n",
      "**********\n",
      "Huckleberry Frozen Yogurt Bucket, 343, Jeni's Splendid Ice Creams, LLC, 3 gallons, plastic bucket, individually packed, frozen.  Huckleberry Frozen Yogurt Pint Case, 243, Jeni's Splendid Ice Creams, LLC, pint size, plastic container, 8 pints per case, frozen.  Huckleberry Frozen Yogurt Pint, Jeni's Splendid Ice Creams, LLC, pint size, plastic container, individually packed, frozen.\n",
      "**********\n",
      "Lemon Frozen Yogurt Bucket, 315, Jeni's Splendid Ice Creams, LLC, 3 gallons, plastic bucket, individually packed, frozen.    Lemon Frozen Yogurt Indie Case, Jeni's Splendid Ice Creams, LLC, 6oz, plastic container, 18 containers per case, frozen.    Lemon Frozen Yogurt Indie, Jeni's Splendid Ice Creams, LLC, 6oz, plastic container, individually packed, frozen.    Lemon Frozen Yogurt Pint Case, 208, Jeni's Splendid Ice Creams, LLC, pint size, plastic container, 8 pints per case, frozen.    Lemon Frozen Yogurt Pint, Jeni's Splendid Ice Creams, LLC, pint size, plastic container, individually packed, frozen.\n",
      "**********\n",
      "Cantaloupe & Sun Tea Sorbet Bucket, 360, Jeni's Splendid Ice Creams, LLC, 3 gallons, plastic bucket, individually packed, frozen.    Cantaloupe & Sun Tea Sorbet Pint Case, 260, Jeni's Splendid Ice Creams, LLC, pint size, plastic container, 8 pints per case, frozen.    Cantaloupe & Sun Tea Sorbet Pint, Jeni's Splendid Ice Creams, LLC, pint size, plastic container, individually packed, frozen.\n",
      "**********\n",
      "Watermelon Buttermilk Frozen Yogurt Bucket, 817, Jeni's Splendid Ice Creams, LLC, 3 gallons, plastic bucket, individually packed, frozen.    Watermelon Buttermilk Frozen Yogurt Pint Case, 717, Jeni's Splendid Ice Creams, LLC, pint size, plastic container, 8 pints per case, frozen.  Watermelon Buttermilk Frozen Yogurt Pint, Jeni's Splendid Ice Creams, LLC, pint size, plastic container, individually packed, frozen.\n",
      "**********\n",
      "Salty Caramel Macaroon Case, 504, Jeni's Splendid Ice Creams, LLC, 6oz sandwich, paper box, 14 boxes per case, frozen.    Salty Caramel Macaroon Sandwich, Jenis Splendid Ice Creams, LLC, 6oz sandwich, paper box, individually packed, frozen.     Mini Salty Caramel Macaroon Case, Jenis Splendid Ice Creams, LLC, mini Sandwich, paper box, 8 sleeves per case, frozen.      \n",
      "**********\n",
      "Red Currant Cloverton Bucket, 377, Jeni's Splendid Ice Creams, LLC, 3 gallons, plastic bucket, individually packed, frozen.    Red Currant Cloverton Pint Case, 277, Jeni's Splendid Ice Creams, LLC, pint size, plastic container, 8 pints per case, frozen.    Red Currant Cloverton Pint, Jeni's Splendid Ice Creams, LLC, pint size, plastic container, individually packed, frozen.\n",
      "**********\n",
      "Buttermilk, Mango Lassi Frozen Yogurt Bucket, 341, Jeni's Splendid Ice Creams, LLC, 3 gallons, plastic bucket, individually packed, frozen.  Buttermilk, Mango Lassi Frozen Yogurt Pint Case, 235, Jeni's Splendid Ice Creams, LLC, pint size, plastic container, 8 pints per case, frozen.  Buttermilk, Mango Lassi Frozen Yogurt Pint, Jeni's Splendid Ice Creams, LLC, pint size, plastic container, individually packed, frozen.\n",
      "**********\n",
      "Snowy Coconut Macaroon Ice Cream Sandwich Case, 515, Jeni's Splendid Ice Creams, LLC, 6oz sandwich, paper box, 14 boxes per case, frozen.    Snowy Coconut Macaroon Ice Cream Sandwich, Jeni's Splendid Ice Creams, LLC, 6oz sandwich, paper box, individually packed, frozen. \n",
      "**********\n",
      "Yellow Bucket, 813, Jeni's Splendid Ice Creams, LLC, 3 gallons, plastic bucket, individually packed, frozen.  Yellow Pint Case, 713, Jeni's Splendid Ice Creams, LLC, pint size, plastic container, 8 pints per case, frozen.  Yellow Pint, Jeni's Splendid Ice Creams, LLC, pint size, plastic container, individually packed, frozen.\n",
      "**********\n",
      "Banana Pudding Bucket, 811, Jeni's Splendid Ice Creams, LLC, 3 gallons, plastic bucket, individually packed, frozen.  Banana Pudding Pint Case, 711, Jeni's Splendid Ice Creams, LLC, pint size, plastic container, 8 pints per case, frozen.  Banana Pudding Pint, Jeni's Splendid Ice Creams, LLC, pint size, plastic container, individually packed, frozen.\n",
      "**********\n",
      "Bitter Lemon Ice Bucket, 816, Jeni's Splendid Ice Creams, LLC, 3 gallons, plastic bucket, individually packed, frozen.    Bitter Lemon Ice Pint, Jeni's Splendid Ice Creams, LLC, pint size, plastic container, individually packed, frozen.  \n",
      "**********\n",
      "Birch + Marshmallows Ice Cream Bucket, 379, Jeni's Splendid Ice Creams, LLC, 3 gallons, plastic bucket, individually packed, frozen.  Birch + Marshmallows Pint Case, 279, Jeni's Splendid Ice Creams, LLC, pint size, plastic container, 8 pints per case, frozen.  Birch + Marshmallows Ice Cream Pint, Jeni's Splendid Ice Creams, LLC, pint size, plastic container, individually packed, frozen.\n",
      "**********\n",
      "Apricot, Brioche and Jam Bucket, 300, Jeni's Splendid Ice Creams, LLC, 3 gallons, plastic bucket, individually packed, frozen.  Apricot, Brioche and Jam Pint Case, 207, Jeni's Splendid Ice Creams, LLC, pint size, plastic container, 8 pints per case, frozen.  Apricot, Brioche and Jam Pint, Jeni's Splendid Ice Creams, LLC, pint size, plastic container, individually packed, frozen.\n",
      "**********\n",
      "Lemon ButtermilkFrozen Yogurt Bucket, 809, Jenis Splendid Ice Creams, LLC, 3 gallons, plastic bucket, individually packed, frozen.  Buttermilk, Lemon Frozen Yogurt Indie Case, 103, Jenis Splendid Ice Creams, LLC, 6oz, plastic container, 18 containers per case, frozen.  Buttermilk, Lemon Frozen Yogurt Indie, Jenis Splendid Ice Creams, LLC, 6oz, plastic container, individually packed, frozen.  Buttermilk, Lemon Frozen Yogurt Pint Case, 709, Jenis Splendid Ice Creams, LLC, pint size, plastic container, 8 pints per case, frozen.  Buttermilk, Lemon Frozen Yogurt Pint, Jenis Splendid Ice Creams, LLC, pint size, plastic container, individually packed, frozen.  \n",
      "**********\n",
      "Beet + Grapefruit Shrub Sorbet Pint Case, 205, Jeni's Splendid Ice Creams, LLC, pint size, plastic container, 8 pints per case, frozen.    Beet + Grapefruit Shrub Ssorbet Pint, Jeni's Splendid Ice Creams, LLC, pint size, plastic container, individually packed, frozen. \n",
      "**********\n",
      "Black Currant Lambic Sorbet Bucket, 385, Jeni's Splendid Ice Creams, LLC, 3 gallons, plastic bucket, individually packed, frozen.    Black Currant Lambic Sorbet Pint Case, 285, Jeni's Splendid Ice Creams, LLC, pint size, plastic container, 8 pints per case, frozen.    Black Currant Lambic Sorbet Pint, Jeni's Splendid Ice Creams, LLC, pint size, plastic container, individually packed, frozen.\n",
      "**********\n",
      "Red Raspberry Frozen Yogurt Bucket, Jeni's Splendid Ice Creams, LLC, 3 gallons, plastic bucket, individually packed, frozen.    Red Raspberry Frozen Yogurt Poppin' J Case, Jeni's Splendid Ice Creams, LLC, 6oz, plastic container, 25 containers per case, frozen.    Red Raspberry Frozen Yogurt Pint Case, 241, Jeni's Splendid Ice Creams, LLC, pint size, plastic container, 8 pints per case, frozen.    Red Raspberry Frozen Yogurt Pint, Jeni's Splendid Ice Creams, LLC, pint size, plastic container, individually packed, frozen.\n",
      "**********\n",
      "Key Lime Bucket, 337, Jeni's Splendid Ice Creams, LLC, 3 gallons, plastic bucket, individually packed, frozen.    Key Lime Pint Case, 237, Jeni's Splendid Ice Creams, LLC, pint size, plastic container, 8 pints per case, frozen.    Key Lime Pint, Jeni's Splendid Ice Creams, LLC, pint size, plastic container, individually packed, frozen.\n",
      "**********\n",
      "Sun-Popped Corn Bucket, 815, Jeni's Splendid Ice Creams, LLC, 3 gallons, plastic bucket, individually packed, frozen.  Sun-Popped Corn Pint, Jeni's Splendid Ice Creams, LLC, pint size, plastic container, individually packed, frozen.\n",
      "**********\n",
      "Saison Flax Bucket, 357, Jeni's Splendid Ice Creams, LLC, 3 gallons, plastic bucket, individually packed, frozen.  Saison Flax Pint Case, 257, Jeni's Splendid Ice Creams, LLC, pint size, plastic container, 8 pints per case, frozen.  Saison Flax Pint, Jeni's Splendid Ice Creams, LLC, pint size, plastic container, individually packed, frozen.\n",
      "**********\n",
      "Black Bucket, 812, Jeni's Splendid Ice Creams, LLC, 3 gallons, plastic bucket, individually packed, frozen.  Black Pint Case, 712, Jeni's Splendid Ice Creams, LLC, pint size, plastic container, 8 pints per case, frozen.  Black Pint, Jeni's Splendid Ice Creams, LLC, pint size, plastic container, individually packed, frozen.\n",
      "**********\n",
      "Dark Chocolate Hazelnut Macaroon Sandwich Case, 502, Jeni's Splendid Ice Creams, LLC, 6.2oz sandwich, paper box, 14 boxes per case, frozen.    Dark Chocolate Hazelnut Macaroon Sandwich, Jeni's Splendid Ice Creams, LLC, 6.2oz sandwich, paper box, individually packed, frozen.    Mini Dark Chocolate Hazelnut Macaroon Case, Jeni's Splendid Ice Creams, LLC, mini Sandwich, paper box, 8 sleeves per case, frozen.  \n",
      "**********\n",
      "Wheatgrass, Pear, & Vinho Verde Sorbet Bucket, 808, Jeni's Splendid Ice Creams, LLC, 3 gallons, plastic bucket, individually packed, frozen.  Wheatgrass, Pear, & Vinho Verde Sorbet Pint Case, 708, Jeni's Splendid Ice Creams, LLC, pint size, plastic container, 8 pints per case, frozen.\n",
      "**********\n",
      "Orange Bucket, 806, Jeni's Splendid Ice Creams, LLC, 3 gallons, plastic bucket, individually packed, frozen.    Orange Pint Case, 706, Jeni's Splendid Ice Creams, LLC, pint size, plastic container, 8 pints per case, frozen.    Orange Pint, Jeni's Splendid Ice Creams, LLC, pint size, plastic container, individually packed, frozen.\n",
      "**********\n",
      "Tart, Lemon Buttermilk Frozen Yogurt Bucket, 380, Jeni's Splendid Ice Creams, LLC, 3 gallons, plastic bucket, individually packed, frozen.    Tart, Lemon Buttermilk Frozen Yogurt Pint Case, 280, Jeni's Splendid Ice Creams, LLC, pint size, plastic container, 8 pints per case, frozen.    Tart, Lemon Buttermilk Frozen Yogurt Pint, Jeni's Splendid Ice   Creams, LLC, pint size, plastic container, individually packed, frozen.\n",
      "**********\n",
      "Buttermilk, Red Raspberry Frozen Yogurt Bucket, 339, Jeni's Splendid Ice Creams, LLC, 3 gallons, plastic bucket, individually packed, frozen.  Buttermilk, Red Raspberry Frozen Yogurt Pint Case, 226, Jeni's Splendid Ice Creams, LLC, pint size, plastic container, 8 pints per case, frozen.  Buttermilk, Red Raspberry Frozen Yogurt Pint, Jeni's Splendid Ice Creams, LLC, pint size, plastic container, individually packed, frozen.\n",
      "**********\n",
      "Cranberry Parfait Buttermilk Frozen Yogurt Bucket, 382, Jeni's Splendid Ice Creams, LLC, 3 gallons, plastic bucket, individually packed, frozen.  Cranberry Parfait Buttermilk Frozen Yogurt Pint Case, 282, Jeni's Splendid Ice Creams, LLC, pint size, plastic container, 8 pints per case, frozen.  Cranberry Parfait Buttermilk Frozen Yogurt Pint, Jeni's Splendid Ice Creams, LLC, pint size, plastic container, individually packed, frozen.\n",
      "**********\n",
      "Buttermilk, Lime Cardamom Frozen Yogurt Bucket, 306, Jeni's Splendid Ice Creams, LLC, 3 gallons, plastic bucket, individually packed, frozen.  Buttermilk, Lime Cardamom Frozen Yogurt Pint Case, 206, Jeni's Splendid Ice Creams, LLC, pint size, plastic container, 8 pints per case, frozen.  Buttermilk, Lime Cardamom Frozen Yogurt Pint, Jeni's Splendid Ice Creams, LLC, pint size, plastic container, individually packed, frozen.\n",
      "**********\n",
      "Salty Vanilla Custard Bucket, 336, Jeni's Splendid Ice Creams, LLC, 3 gallons, plastic bucket, individually packed, frozen.  Salty Vanilla Custard Pint Case, 236, Jeni's Splendid Ice Creams, LLC, pint size, plastic container, 8 pints per case, frozen.  Salty Vanilla Custard Pint, Jeni's Splendid Ice Creams, LLC, pint size, plastic container, individually packed, frozen.\n",
      "**********\n",
      "Smoked Cassia Cinnamon Ice Cream Pint Case, 224, Jeni's Splendid Ice Creams, LLC, pint size, plastic container, 8 pints per case, frozen.    Smoked Cassia Cinnamon Ice Cream Pint, Jeni's Splendid Ice Creams, LLC, pint size, plastic container, individually packed, frozen. \n",
      "**********\n",
      "Pineapple Cake Frozen Yogurt Bucket, 358, Jeni's Splendid Ice Creams, LLC, 3 gallons, plastic bucket, individually packed, frozen.    Pineapple Cake Frozen Yogurt Pint Case, 258, Jeni's Splendid Ice Creams, LLC, pint size, plastic container, 8 pints per case, frozen.    Pineapple Cake Frozen Yogurt Pint, Jeni's Splendid Ice Creams, LLC, pint size, plastic container, individually packed, frozen.\n",
      "**********\n",
      "Banana French Toast Bucket, 354, Jeni's Splendid Ice Creams, LLC, 3 gallons, plastic bucket, individually packed, frozen.  Banana French Toast Half Gallon, Jeni's Splendid Ice Creams, LLC, half gallon, plastic container, individually packed, frozen.  Banana French Toast Pint Case, 254, Jeni's Splendid Ice Creams, LLC, pint size, plastic container, 8 pints per case, frozen.  Banana French Toast Pint, Jeni's Splendid Ice Creams, LLC, pint size, plastic container, individually packed, frozen.\n",
      "**********\n",
      "Black Walnut Divinity Ice Cream Bucket, 373, Jeni's Splendid Ice Creams, LLC, 3 gallons, plastic bucket, individually packed, frozen.  Black Walnut Divinity Pint Case, 273, Jeni's Splendid Ice Creams, LLC, pint size, plastic container, 8 pints per case, frozen.  Black Walnut Divinity Pint, Jeni's Splendid Ice Creams, LLC, pint size, plastic container, individually packed, frozen.\n",
      "**********\n",
      "Rainbow Frozen Yogurt Bucket, 344, Jeni's Splendid Ice Creams, LLC, 3 gallons, plastic bucket, individually packed, frozen.    Rainbow Frozen Yogurt Pint Case, 244, Jeni's Splendid Ice Creams, LLC, pint size, plastic container, 8 pints per case, frozen.    Rainbow Frozen Yogurt Pint, Jeni's Splendid Ice Creams, LLC, pint size, plastic container, individually packed, frozen.\n",
      "**********\n",
      "Grapefruit Frozen Yogurt Pint Case, 296, Jeni's Splendid Ice Creams, LLC, pint size, plastic container, 8 pints per case, frozen.    Grapefruit Frozen Yogurt Pint, Jeni's Splendid Ice Creams, LLC, pint size, plastic container, individually packed, frozen. \n",
      "**********\n",
      "Moonshine Corn Syrup Custard & Pecans Bucket, 361, Jeni's Splendid Ice Creams, LLC, 3 gallons, plastic bucket, individually packed, frozen.    Moonshine Corn Syrup Custard & Pecans Pint Case, 261, Jeni's Splendid Ice Creams, LLC, pint size, plastic container, 8 pints per case, frozen.    Moonshine Corn Syrup Custard & Pecans Pint, Jeni's Splendid Ice Creams, LLC, pint size, plastic container, individually packed, frozen.\n",
      "**********\n",
      "Red Raspberry Sorbet Pint Case, 286, Jeni's Splendid Ice Creams, LLC, pint size, plastic container, 8 pints per case, frozen.    Red Raspberry Sorbet Pint, Jeni's Splendid Ice Creams, LLC, pint size, plastic container, individually packed, frozen. \n",
      "**********\n",
      "Batdorf Coffee w/ Cream & Sugar Bucket, 383, Jeni's Splendid Ice Creams, LLC, 3 gallons, plastic bucket, individually packed, frozen.  Batdorf Coffee w/ Cream & Sugar Pint, Jeni's Splendid Ice Creams, LLC, pint size, plastic container, individually packed, frozen.\n",
      "**********\n",
      "Spiced Purple Yam Bucket, 329, Jeni's Splendid Ice Creams, LLC, 3 gallons, plastic bucket, individually packed, frozen.  Spiced Purple Yam Indie Case, Jeni's Splendid Ice Creams, LLC, 6oz, plastic container, 18 containers per case, frozen.  Spiced Purple Yam Indie, Jeni's Splendid Ice Creams, LLC, 6oz, plastic container, individually packed, frozen.\n",
      "**********\n",
      "Raspberry Red Currant, Brioche and Jam Bucket, 316, Jeni's Splendid Ice Creams, LLC, 3 gallons, plastic bucket, individually packed, frozen.  Raspberry Red Currant, Brioche and Jam Pint Case, 223, Jeni's Splendid Ice Creams, LLC, pint size, plastic container, 8 pints per case, frozen.  Raspberry Red Currant, Brioche and Jam Pint, Jeni's Splendid Ice Creams, LLC, pint size, plastic container, individually packed, frozen.\n",
      "**********\n",
      "Stauf's Black Coffee Bucket, 355, Jeni's Splendid Ice Creams, LLC, 3 gallons, plastic bucket, individually packed, frozen.  Stauf's Black Coffee Pint Case, 203, Jeni's Splendid Ice Creams, LLC, pint size, plastic container, 8 pints per case, frozen.  Stauf's Black Coffee Pint, Jeni's Splendid Ice Creams, LLC, pint size, plastic container, individually packed, frozen.\n",
      "**********\n",
      "Orchid Vanilla Macaroon Ice Cream Sandwich Case, 503, Jeni's Splendid Ice Creams, LLC, 5oz sandwich, paper box, 14 boxes per case, frozen.    Mini Orchid Vanilla Macaroon Ice Cream Sandwich Case, Jeni's Splendid Ice Creams, LLC, mini Sandwich, paper box, 8 sleeves per case, frozen.\n",
      "**********\n",
      "White Chocolate Coconut Bucket, 819, Jeni's Splendid Ice Creams, LLC, 3 gallons, plastic bucket, individually packed, frozen.  White Chocolate Coconut Pint, Jeni's Splendid Ice Creams, LLC, pint size, plastic container, individually packed, frozen.\n",
      "**********\n",
      "Blood Orange Sorbet Bucket, 387, Jeni's Splendid Ice Creams, LLC, 3 gallons, plastic bucket, individually packed, frozen.    Blood Orange Sorbet Pint Case, 287, Jeni's Splendid Ice Creams, LLC, pint size, plastic container, 8 pints per case, frozen.    Blood Orange Sorbet Pint, Jeni's Splendid Ice Creams, LLC, pint size, plastic container, individually packed, frozen.\n",
      "**********\n",
      "Blue Raspberry Ice Bucket, 818, Jeni's Splendid Ice Creams, LLC, 3 gallons, plastic bucket, individually packed, frozen.    Blue Raspberry Ice Pint, Jeni's Splendid Ice Creams, LLC, pint size, plastic container, individually packed, frozen.  \n",
      "**********\n"
     ]
    }
   ],
   "source": [
    "# You should look at all the clusters, but let's look at cluster \"15\" (I chose this arbitrarily; you should look at all of them)\n",
    "\n",
    "for i in range(0,len(km.labels_)):\n",
    "    if km.labels_[i] == 15:\n",
    "        print(raw_data['product_description'][i])\n",
    "        print('**********')"
   ]
  },
  {
   "cell_type": "code",
   "execution_count": null,
   "metadata": {},
   "outputs": [],
   "source": []
  }
 ],
 "metadata": {
  "kernelspec": {
   "display_name": "Python 3",
   "language": "python",
   "name": "python3"
  },
  "language_info": {
   "codemirror_mode": {
    "name": "ipython",
    "version": 3
   },
   "file_extension": ".py",
   "mimetype": "text/x-python",
   "name": "python",
   "nbconvert_exporter": "python",
   "pygments_lexer": "ipython3",
   "version": "3.7.1"
  }
 },
 "nbformat": 4,
 "nbformat_minor": 2
}
